{
  "nbformat": 4,
  "nbformat_minor": 0,
  "metadata": {
    "colab": {
      "name": "mxnet_2.ipynb",
      "provenance": []
    },
    "kernelspec": {
      "name": "python3",
      "display_name": "Python 3"
    }
  },
  "cells": [
    {
      "cell_type": "code",
      "metadata": {
        "id": "4iBpvOlZTZg8",
        "colab_type": "code",
        "colab": {
          "base_uri": "https://localhost:8080/",
          "height": 315
        },
        "outputId": "9770edd8-6610-4ab9-cc92-79aed4d23ff8"
      },
      "source": [
        "!pip install mxnet"
      ],
      "execution_count": 2,
      "outputs": [
        {
          "output_type": "stream",
          "text": [
            "Collecting mxnet\n",
            "\u001b[?25l  Downloading https://files.pythonhosted.org/packages/29/bb/54cbabe428351c06d10903c658878d29ee7026efbe45133fd133598d6eb6/mxnet-1.7.0.post1-py2.py3-none-manylinux2014_x86_64.whl (55.0MB)\n",
            "\u001b[K     |████████████████████████████████| 55.0MB 74kB/s \n",
            "\u001b[?25hRequirement already satisfied: requests<3,>=2.20.0 in /usr/local/lib/python3.6/dist-packages (from mxnet) (2.23.0)\n",
            "Collecting graphviz<0.9.0,>=0.8.1\n",
            "  Downloading https://files.pythonhosted.org/packages/53/39/4ab213673844e0c004bed8a0781a0721a3f6bb23eb8854ee75c236428892/graphviz-0.8.4-py2.py3-none-any.whl\n",
            "Requirement already satisfied: numpy<2.0.0,>1.16.0 in /usr/local/lib/python3.6/dist-packages (from mxnet) (1.18.5)\n",
            "Requirement already satisfied: certifi>=2017.4.17 in /usr/local/lib/python3.6/dist-packages (from requests<3,>=2.20.0->mxnet) (2020.6.20)\n",
            "Requirement already satisfied: chardet<4,>=3.0.2 in /usr/local/lib/python3.6/dist-packages (from requests<3,>=2.20.0->mxnet) (3.0.4)\n",
            "Requirement already satisfied: urllib3!=1.25.0,!=1.25.1,<1.26,>=1.21.1 in /usr/local/lib/python3.6/dist-packages (from requests<3,>=2.20.0->mxnet) (1.24.3)\n",
            "Requirement already satisfied: idna<3,>=2.5 in /usr/local/lib/python3.6/dist-packages (from requests<3,>=2.20.0->mxnet) (2.10)\n",
            "Installing collected packages: graphviz, mxnet\n",
            "  Found existing installation: graphviz 0.10.1\n",
            "    Uninstalling graphviz-0.10.1:\n",
            "      Successfully uninstalled graphviz-0.10.1\n",
            "Successfully installed graphviz-0.8.4 mxnet-1.7.0.post1\n"
          ],
          "name": "stdout"
        }
      ]
    },
    {
      "cell_type": "code",
      "metadata": {
        "id": "E-3mCUM2TO9x",
        "colab_type": "code",
        "colab": {}
      },
      "source": [
        "from mxnet import nd\n",
        "from mxnet.gluon import nn"
      ],
      "execution_count": 3,
      "outputs": []
    },
    {
      "cell_type": "code",
      "metadata": {
        "id": "x4VpJLe-TVv3",
        "colab_type": "code",
        "colab": {
          "base_uri": "https://localhost:8080/",
          "height": 34
        },
        "outputId": "45f2f5c9-718e-4cf7-fc69-c7bf58ac04fe"
      },
      "source": [
        "layer = nn.Dense(2)\n",
        "layer"
      ],
      "execution_count": 4,
      "outputs": [
        {
          "output_type": "execute_result",
          "data": {
            "text/plain": [
              "Dense(None -> 2, linear)"
            ]
          },
          "metadata": {
            "tags": []
          },
          "execution_count": 4
        }
      ]
    },
    {
      "cell_type": "code",
      "metadata": {
        "id": "TwIiH7KdTY2s",
        "colab_type": "code",
        "colab": {}
      },
      "source": [
        "layer.initialize()"
      ],
      "execution_count": 5,
      "outputs": []
    },
    {
      "cell_type": "code",
      "metadata": {
        "id": "y2gQt_ioTb7e",
        "colab_type": "code",
        "colab": {
          "base_uri": "https://localhost:8080/",
          "height": 104
        },
        "outputId": "8dc6af07-e15f-409a-b182-6822a02435a8"
      },
      "source": [
        "# 3*4 @ 4*2\n",
        "x = nd.random.uniform(-1, 1, (3, 4))\n",
        "layer(x)"
      ],
      "execution_count": 6,
      "outputs": [
        {
          "output_type": "execute_result",
          "data": {
            "text/plain": [
              "\n",
              "[[-0.02524132 -0.00874885]\n",
              " [-0.06026538 -0.01308061]\n",
              " [ 0.02468396 -0.02181557]]\n",
              "<NDArray 3x2 @cpu(0)>"
            ]
          },
          "metadata": {
            "tags": []
          },
          "execution_count": 6
        }
      ]
    },
    {
      "cell_type": "code",
      "metadata": {
        "id": "XSrfD73MThh4",
        "colab_type": "code",
        "colab": {
          "base_uri": "https://localhost:8080/",
          "height": 86
        },
        "outputId": "c63ec0cb-7a95-4cb5-99b3-d6812853f585"
      },
      "source": [
        "layer.weight.data()"
      ],
      "execution_count": 7,
      "outputs": [
        {
          "output_type": "execute_result",
          "data": {
            "text/plain": [
              "\n",
              "[[-0.00873779 -0.02834515  0.05484822 -0.06206018]\n",
              " [ 0.06491279 -0.03182812 -0.01631819 -0.00312688]]\n",
              "<NDArray 2x4 @cpu(0)>"
            ]
          },
          "metadata": {
            "tags": []
          },
          "execution_count": 7
        }
      ]
    },
    {
      "cell_type": "code",
      "metadata": {
        "id": "WUVtqYKfUI0Z",
        "colab_type": "code",
        "colab": {
          "base_uri": "https://localhost:8080/",
          "height": 173
        },
        "outputId": "169bc9f3-2858-4f7f-afc2-e00953cd3b4c"
      },
      "source": [
        "net = nn.Sequential()\n",
        "# Add a sequence of layers.\n",
        "net.add(# Similar to Dense, it is not necessary to specify the input channels\n",
        "        # by the argument `in_channels`, which will be  automatically inferred\n",
        "        # in the first forward pass. Also, we apply a relu activation on the\n",
        "        # output. In addition, we can use a tuple to specify a  non-square\n",
        "        # kernel size, such as `kernel_size=(2, 4)`\n",
        "        nn.Conv2D(channels=6, kernel_size=5, activation='relu'),\n",
        "        # One can also use a tuple to specify non-symmetric pool and stride sizes\n",
        "        nn.MaxPool2D(pool_size=2, strides=2),\n",
        "        nn.Conv2D(channels=16, kernel_size=3, activation='relu'),\n",
        "        nn.MaxPool2D(pool_size=2, strides=2),\n",
        "        # The dense layer will automatically reshape the 4-D output of last\n",
        "        # max pooling layer into the 2-D shape: (x.shape[0], x.size/x.shape[0])\n",
        "        nn.Dense(120, activation=\"relu\"),\n",
        "        nn.Dense(84, activation=\"relu\"),\n",
        "        nn.Dense(10))\n",
        "net"
      ],
      "execution_count": 9,
      "outputs": [
        {
          "output_type": "execute_result",
          "data": {
            "text/plain": [
              "Sequential(\n",
              "  (0): Conv2D(None -> 6, kernel_size=(5, 5), stride=(1, 1), Activation(relu))\n",
              "  (1): MaxPool2D(size=(2, 2), stride=(2, 2), padding=(0, 0), ceil_mode=False, global_pool=False, pool_type=max, layout=NCHW)\n",
              "  (2): Conv2D(None -> 16, kernel_size=(3, 3), stride=(1, 1), Activation(relu))\n",
              "  (3): MaxPool2D(size=(2, 2), stride=(2, 2), padding=(0, 0), ceil_mode=False, global_pool=False, pool_type=max, layout=NCHW)\n",
              "  (4): Dense(None -> 120, Activation(relu))\n",
              "  (5): Dense(None -> 84, Activation(relu))\n",
              "  (6): Dense(None -> 10, linear)\n",
              ")"
            ]
          },
          "metadata": {
            "tags": []
          },
          "execution_count": 9
        }
      ]
    },
    {
      "cell_type": "code",
      "metadata": {
        "id": "XIkV5Io3UeAl",
        "colab_type": "code",
        "colab": {
          "base_uri": "https://localhost:8080/",
          "height": 34
        },
        "outputId": "99ea284e-9130-43c5-850e-610f3b8770aa"
      },
      "source": [
        "net.initialize()\n",
        "# Input shape is (batch_size, color_channels, height, width)\n",
        "x = nd.random.uniform(shape=(4, 1, 28, 28))\n",
        "y = net(x)\n",
        "y.shape"
      ],
      "execution_count": 10,
      "outputs": [
        {
          "output_type": "execute_result",
          "data": {
            "text/plain": [
              "(4, 10)"
            ]
          },
          "metadata": {
            "tags": []
          },
          "execution_count": 10
        }
      ]
    },
    {
      "cell_type": "code",
      "metadata": {
        "id": "1ShWZoQ3UsM_",
        "colab_type": "code",
        "colab": {
          "base_uri": "https://localhost:8080/",
          "height": 34
        },
        "outputId": "20fab22f-f5ff-40b9-d225-c4c6f6d655ca"
      },
      "source": [
        "(net[0].weight.data().shape, net[5].bias.data().shape)"
      ],
      "execution_count": 11,
      "outputs": [
        {
          "output_type": "execute_result",
          "data": {
            "text/plain": [
              "((6, 1, 5, 5), (84,))"
            ]
          },
          "metadata": {
            "tags": []
          },
          "execution_count": 11
        }
      ]
    },
    {
      "cell_type": "code",
      "metadata": {
        "id": "BcIrU5u2Uxa0",
        "colab_type": "code",
        "colab": {
          "base_uri": "https://localhost:8080/",
          "height": 139
        },
        "outputId": "062136f6-a402-44ca-8512-aeb6bd6512c8"
      },
      "source": [
        "class MixMLP(nn.Block):\n",
        "    def __init__(self, **kwargs):\n",
        "        # Run `nn.Block`'s init method\n",
        "        super(MixMLP, self).__init__(**kwargs)\n",
        "        self.blk = nn.Sequential()\n",
        "        self.blk.add(nn.Dense(3, activation='relu'),\n",
        "                     nn.Dense(4, activation='relu'))\n",
        "        self.dense = nn.Dense(5)\n",
        "    def forward(self, x):\n",
        "        y = nd.relu(self.blk(x))\n",
        "        print(y)\n",
        "        return self.dense(y)\n",
        "\n",
        "net = MixMLP()\n",
        "net"
      ],
      "execution_count": 12,
      "outputs": [
        {
          "output_type": "execute_result",
          "data": {
            "text/plain": [
              "MixMLP(\n",
              "  (blk): Sequential(\n",
              "    (0): Dense(None -> 3, Activation(relu))\n",
              "    (1): Dense(None -> 4, Activation(relu))\n",
              "  )\n",
              "  (dense): Dense(None -> 5, linear)\n",
              ")"
            ]
          },
          "metadata": {
            "tags": []
          },
          "execution_count": 12
        }
      ]
    },
    {
      "cell_type": "code",
      "metadata": {
        "id": "_WaSngZDVC8I",
        "colab_type": "code",
        "colab": {
          "base_uri": "https://localhost:8080/",
          "height": 191
        },
        "outputId": "56a6983c-7b3d-4352-d0c7-9f6440cb374f"
      },
      "source": [
        "net.initialize()\n",
        "x = nd.random.uniform(shape=(2, 2))\n",
        "net(x)"
      ],
      "execution_count": 13,
      "outputs": [
        {
          "output_type": "stream",
          "text": [
            "\n",
            "[[0.0000000e+00 0.0000000e+00 6.2900386e-04 7.6445540e-05]\n",
            " [0.0000000e+00 0.0000000e+00 1.1989386e-03 1.2375204e-03]]\n",
            "<NDArray 2x4 @cpu(0)>\n"
          ],
          "name": "stdout"
        },
        {
          "output_type": "execute_result",
          "data": {
            "text/plain": [
              "\n",
              "[[-3.8061840e-05  1.5568350e-05  4.3668215e-06  4.2853058e-05\n",
              "   1.8710394e-05]\n",
              " [-1.8345519e-05  2.6403079e-05  2.4685731e-05  7.7019373e-05\n",
              "   9.7785989e-05]]\n",
              "<NDArray 2x5 @cpu(0)>"
            ]
          },
          "metadata": {
            "tags": []
          },
          "execution_count": 13
        }
      ]
    },
    {
      "cell_type": "code",
      "metadata": {
        "id": "CInH-okOVKOe",
        "colab_type": "code",
        "colab": {
          "base_uri": "https://localhost:8080/",
          "height": 121
        },
        "outputId": "ea07e3ab-5bf0-4952-a83a-25e494a887f8"
      },
      "source": [
        "net.blk[1].weight.data()"
      ],
      "execution_count": 14,
      "outputs": [
        {
          "output_type": "execute_result",
          "data": {
            "text/plain": [
              "\n",
              "[[-0.0343901  -0.05805862 -0.06187592]\n",
              " [-0.06210143 -0.00918167 -0.00170272]\n",
              " [-0.02634858  0.05334064  0.02748809]\n",
              " [ 0.06669661 -0.01711474  0.01647211]]\n",
              "<NDArray 4x3 @cpu(0)>"
            ]
          },
          "metadata": {
            "tags": []
          },
          "execution_count": 14
        }
      ]
    }
  ]
}
